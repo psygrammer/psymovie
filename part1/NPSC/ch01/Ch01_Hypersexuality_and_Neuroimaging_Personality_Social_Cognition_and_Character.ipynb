{
 "cells": [
  {
   "cell_type": "markdown",
   "metadata": {},
   "source": [
    "# Chapter 1. Hypersexuality and Neuroimaging Personality, Social Cognition, and Character"
   ]
  },
  {
   "cell_type": "markdown",
   "metadata": {},
   "source": [
    "* 싸이그래머 / 싸이무비 : 파트 1 - 성격심리학 [1]\n",
    "* 김무성    "
   ]
  },
  {
   "cell_type": "markdown",
   "metadata": {},
   "source": [
    "# Contents \n",
    "1. Introductory Questions and Definitions\n",
    "    - 1.1 Questions\n",
    "    - 1.2 Definitions\n",
    "    - 1.3 Definition of Hypersexuality and Rationale for Inclusion \n",
    "    - 1.4 Hypothetical Hypersexuality Scenario\n",
    "2. Hypersexuality without and with Structural Brain Lesions    \n",
    "    - 2.1 PSCC in Non-Brain-Lesion HS Subjects\n",
    "    - 2.2 Brain Lesions and Hypersexuality\n",
    "        - 2.2.1 Frontal Lobes\n",
    "        - 2.2.2 Temporal Lobes \n",
    "        - 2.2.3 Other Brain Areas\n",
    "3. The Many Challenges of NPSCC with Hypersexuality as an Example \n",
    "    - 3.1 The Lesion Method\n",
    "    - 3.2 Newer Imaging Techniques\n",
    "4. Summary"
   ]
  },
  {
   "cell_type": "markdown",
   "metadata": {},
   "source": [
    "# 1. Introductory Questions and Definitions\n",
    "* 1.1 Questions\n",
    "* 1.2 Definitions\n",
    "* 1.3 Definition of Hypersexuality and Rationale for Inclusion \n",
    "* 1.4 Hypothetical Hypersexuality Scenario"
   ]
  },
  {
   "cell_type": "markdown",
   "metadata": {},
   "source": [
    "## 1.1 Questions"
   ]
  },
  {
   "cell_type": "markdown",
   "metadata": {},
   "source": [
    "#### 참고\n",
    "* [2] “뇌영상 분석 기법에 심각한 오류 가능성” 논문 파장 - http://scienceon.hani.co.kr/414365\n",
    "* [3] fMRI 뇌영상 연구, 위양성 결과 나오기 쉬운 이유- http://www.ibric.org/myboard/read.php?Board=news&id=274103&Page=1&SOURCE=6"
   ]
  },
  {
   "cell_type": "markdown",
   "metadata": {},
   "source": [
    "<font color=\"red\">Can neuroimaging improve our understanding of personality, social cognition, and character (NPSCC)?</font>"
   ]
  },
  {
   "cell_type": "markdown",
   "metadata": {},
   "source": [
    "This introductory chapter is focused on several specific aims:\n",
    "1. To define some of the key NPSCC terms used throughout this volume\n",
    "2. To provide a brief overview of hypersexuality as a structure within which major NPSCC themes are presented (as an exemplar of NPSCC research), because\n",
    "    - a. Personality, social cognition, and character (PSCC) all impact hypersexuality\n",
    "    - b. Brain lesions that produce hypersexuality may also influence PSCC\n",
    "    - c. The brain networks and structures implicated in hypersexuality are involved in many aspects of PSCC\n",
    "    - d. The complexities of hypersexuality research mirror those encountered in other aspects of NPSCC\n",
    "3. To introduce the limitations of narrow localizationism and present the three most important, overlapping, integrated, and complementary brain networks related to hypersexuality\n",
    "4. To summarize the structural and functional imaging approaches to NPSCC, focusing on contributions from lesion studies of hypersexuality to provide a historical backdrop for NPSCC\n",
    "5. To summarize some of the complexities and challenges specific to neuroimaging\n",
    "6. To revisit hypersexuality in the closing section and recapitulate relevant findings from the literature that directly relate to PSCC themes, some of which are developed in great detail in this volume"
   ]
  },
  {
   "cell_type": "markdown",
   "metadata": {},
   "source": [
    "## 1.2 Definitions"
   ]
  },
  {
   "cell_type": "markdown",
   "metadata": {},
   "source": [
    "#### 참고\n",
    "* [4] Neuroimaging Lecture - http://www.slideshare.net/tvelkov/neuroimaging-lecture"
   ]
  },
  {
   "cell_type": "markdown",
   "metadata": {},
   "source": [
    "#### Neuroimaging\n",
    "* Structural neuroimaging\n",
    "    - Cranial computerized tomography (CT)\n",
    "    - magnetic resonance imaging (MRI) \n",
    "    - Voxel-based morphometry (VBM)\n",
    "    - Diffusion tensor imaging (DTI)\n",
    "    - Diffusion spectrum imaging (DSI)\n",
    "* Functional neuroimaging\n",
    "    - Electroencephalography (EEG)\n",
    "    - magnetoencephalography (MEG)\n",
    "    - evoked potentials (EP)\n",
    "    - Single photon emission computed tomography (SPECT), \n",
    "    - positron emission tomography (PET), \n",
    "    - functional MRI (fMRI)\n",
    "    - functional near infrared spectroscopy (fNIRS)\n",
    "* Optogenetics\n",
    "* transcranial direct current stimulation (tDCS)\n",
    "* transcranial magnetic stimulation (TMS)\n",
    "* human intracranial electrophysiology (HIE)"
   ]
  },
  {
   "cell_type": "markdown",
   "metadata": {},
   "source": [
    "#### 참고\n",
    "* [5] PERSONALITY : What Makes you “YOU”? Central Concepts of Personality - http://personal-pages.lvc.edu/kitchens/file.axd?file=2012%2F5%2FPersonality+Traits_sn.ppt\n",
    "* [6] Personality Neuroscience - https://prezi.com/uukye0y3w2pa/personality-neuroscience/\n",
    "* [7] Biological basis of personality - https://en.wikipedia.org/wiki/Biological_basis_of_personality"
   ]
  },
  {
   "cell_type": "markdown",
   "metadata": {},
   "source": [
    "#### Personality\n",
    "* Personality has been defined as \n",
    "    - “an individual’s unique variation \n",
    "        - on the general evolutionary design for human nature, \n",
    "    - expressed as a developing pattern of dispositional traits,\n",
    "    - characteristic adaptations, and \n",
    "    - integrative life stories, \n",
    "    - complexly and differentially situated in culture.”\n",
    "* Statistical analyses of personality traits support \n",
    "    - “a hierarchical model of traits \n",
    "    - based on the Big Five dimensions: \n",
    "        - extraversion, \n",
    "        - neuroticism, \n",
    "        - agreeableness, \n",
    "        - conscientiousness, and \n",
    "        - openness/intellect.”\n",
    "* Big Five model\n",
    "    - Three of these Big Five dimensions \n",
    "        - (neuroticism, \n",
    "        - agreeableness, and \n",
    "        - conscientiousness) are \n",
    "        - encompassed by the “metatrait,” stability, and \n",
    "    - the other two \n",
    "        - (extraversion and \n",
    "        - openness/intellect) \n",
    "        - by the metatrait, plasticity.\n",
    "    - There are \n",
    "        - several aspects of each Big Five dimension, and \n",
    "        - many facets of each aspect.\n",
    "* A major challenge of personality neuroscience is to relate all of \n",
    "    - these facets, aspects, dimensions, and metatraits to specific neurobiological processes."
   ]
  },
  {
   "cell_type": "markdown",
   "metadata": {},
   "source": [
    "#### 참고\n",
    "* [10] Social cognition: Perceiving self and others - http://www.slideshare.net/arisudantiwari/social-cognition-perceiving-self-and-others\n",
    "* [11] Theory Of Mind - http://www.slideshare.net/MurftheSurf/theory-of-mind\n",
    "* [12] Theory of Mind - Seminar presentation - http://www.slideshare.net/ashratnam/theory-of-mind-seminar-presentation\n",
    "* [13] Introduction of Cognitive Neuroscience - http://biospin.github.io/neuropy/#!doc/part2/study01/d01.md"
   ]
  },
  {
   "cell_type": "markdown",
   "metadata": {},
   "source": [
    "#### social cognition\n",
    "* social cognition\n",
    "    - The concept of social cognition has recently been defined as follows: “Social cognition is the study of how people make sense of other people and themselves. It focuses on how ordinary people think and feel about people—and how they think they think and feel about people.”\n",
    "* Social neuroscience\n",
    "* Theory of Mind (ToM)\n",
    "* mental state attribution (MSA)\n",
    "* shared representations"
   ]
  },
  {
   "cell_type": "markdown",
   "metadata": {},
   "source": [
    "#### 참고\n",
    "* [14] Character traits for slideshare - http://www.slideshare.net/kconnolly765/character-traits-for-slideshare"
   ]
  },
  {
   "cell_type": "markdown",
   "metadata": {},
   "source": [
    "#### character traits\n",
    "\n",
    "An attempt to define human character traits is offered by Miller:\n",
    "* “(a) They [character traits] are personality trait dispositions which manifest as beliefs, desires, and/or actions of a certain sort appropriate to that trait, as a result of being stimulated in a way appropriate to that trait.\n",
    "* (b) They are those personality traits for which a person can be appropriately held responsible and/or be normatively assessed.\n",
    "* (c) They are metaphysically grounded in the interrelated mental state dispositions specific to the given trait such that necessarily, if these dispositions obtain in a person, then the character trait disposition obtains as well.\n",
    "* (d) Some of them are virtues and vices, but perhaps there are character traits which are neither virtues nor vices.”\n",
    "\n",
    "#### moral valence\n",
    "* Character traits may have moral valence, such as honest/dishonest and altruistic/selfish. \n",
    "* Other character traits, such as impulsive/reserved, may not necessarily connote moral valence or moral character.\n",
    "\n"
   ]
  },
  {
   "cell_type": "markdown",
   "metadata": {},
   "source": [
    "## 1.3 Definition of Hypersexuality and Rationale for Inclusion "
   ]
  },
  {
   "cell_type": "markdown",
   "metadata": {},
   "source": [
    "As mentioned earlier, hypersexuality is presented in this chapter to illustrate how NPSCC applies to a specific clinical condition. "
   ]
  },
  {
   "cell_type": "markdown",
   "metadata": {},
   "source": [
    "## 1.4 Hypothetical Hypersexuality Scenario"
   ]
  },
  {
   "cell_type": "markdown",
   "metadata": {},
   "source": [
    "# 2. Hypersexuality without and with Structural Brain Lesions    \n",
    "* 2.1 PSCC in Non-Brain-Lesion HS Subjects\n",
    "* 2.2 Brain Lesions and Hypersexuality"
   ]
  },
  {
   "cell_type": "markdown",
   "metadata": {},
   "source": [
    "## 2.1 PSCC in Non-Brain-Lesion HS Subjects"
   ]
  },
  {
   "cell_type": "markdown",
   "metadata": {},
   "source": [
    "## 2.2 Brain Lesions and Hypersexuality\n",
    "* 2.2.1 Frontal Lobes\n",
    "* 2.2.2 Temporal Lobes \n",
    "* 2.2.3 Other Brain Areas"
   ]
  },
  {
   "cell_type": "markdown",
   "metadata": {},
   "source": [
    "## 2.2.1 Frontal Lobes"
   ]
  },
  {
   "cell_type": "markdown",
   "metadata": {},
   "source": [
    "<img src=\"figures/cap1.1.png\" width=600 />"
   ]
  },
  {
   "cell_type": "markdown",
   "metadata": {},
   "source": [
    "## 2.2.2 Temporal Lobes "
   ]
  },
  {
   "cell_type": "markdown",
   "metadata": {},
   "source": [
    "<img src=\"figures/cap1.2.png\" width=600 />"
   ]
  },
  {
   "cell_type": "markdown",
   "metadata": {},
   "source": [
    "## 2.2.3 Other Brain Areas"
   ]
  },
  {
   "cell_type": "markdown",
   "metadata": {},
   "source": [
    "<img src=\"figures/cap1.3.png\" width=600 />"
   ]
  },
  {
   "cell_type": "markdown",
   "metadata": {},
   "source": [
    "# 3. The Many Challenges of NPSCC with Hypersexuality as an Example \n",
    "* 3.1 The Lesion Method\n",
    "* 3.2 Newer Imaging Techniques"
   ]
  },
  {
   "cell_type": "markdown",
   "metadata": {},
   "source": [
    "## 3.1 The Lesion Method"
   ]
  },
  {
   "cell_type": "markdown",
   "metadata": {},
   "source": [
    "## 3.2 Newer Imaging Techniques"
   ]
  },
  {
   "cell_type": "markdown",
   "metadata": {},
   "source": [
    "# 4. Summary"
   ]
  },
  {
   "cell_type": "markdown",
   "metadata": {},
   "source": [
    "# 참고자료"
   ]
  },
  {
   "cell_type": "markdown",
   "metadata": {},
   "source": [
    "* [1] Neuroimaging Personality, Social Cognition, and Character - https://www.amazon.com/Neuroimaging-Personality-Social-Cognition-Character/dp/0128009357 \n",
    "* [2] “뇌영상 분석 기법에 심각한 오류 가능성” 논문 파장 - http://scienceon.hani.co.kr/414365\n",
    "* [3] fMRI 뇌영상 연구, 위양성 결과 나오기 쉬운 이유- http://www.ibric.org/myboard/read.php?Board=news&id=274103&Page=1&SOURCE=6\n",
    "* [4] Neuroimaging Lecture - http://www.slideshare.net/tvelkov/neuroimaging-lecture\n",
    "* [5] PERSONALITY : What Makes you “YOU”? Central Concepts of Personality - http://personal-pages.lvc.edu/kitchens/file.axd?file=2012%2F5%2FPersonality+Traits_sn.ppt\n",
    "* [6] Personality Neuroscience - https://prezi.com/uukye0y3w2pa/personality-neuroscience/\n",
    "* [7] Biological basis of personality - https://en.wikipedia.org/wiki/Biological_basis_of_personality\n",
    "* [8] 성격심리학 / 영남대 - http://www.kocw.net/home/search/kemView.do?kemId=437176\n",
    "* [9] 성격심리학 / 중앙대 - http://www.kocw.net/home/search/kemView.do?kemId=1045935\n",
    "* [10] Social cognition: Perceiving self and others\n",
    " - http://www.slideshare.net/arisudantiwari/social-cognition-perceiving-self-and-others\n",
    "* [11] Theory Of Mind - http://www.slideshare.net/MurftheSurf/theory-of-mind\n",
    "* [12] Theory of Mind - Seminar presentation - http://www.slideshare.net/ashratnam/theory-of-mind-seminar-presentation\n",
    "* [13] Introduction of Cognitive Neuroscience - http://biospin.github.io/neuropy/#!doc/part2/study01/d01.md\n",
    "* [14] Character traits for slideshare - http://www.slideshare.net/kconnolly765/character-traits-for-slideshare"
   ]
  }
 ],
 "metadata": {
  "kernelspec": {
   "display_name": "Python 2",
   "language": "python",
   "name": "python2"
  },
  "language_info": {
   "codemirror_mode": {
    "name": "ipython",
    "version": 2
   },
   "file_extension": ".py",
   "mimetype": "text/x-python",
   "name": "python",
   "nbconvert_exporter": "python",
   "pygments_lexer": "ipython2",
   "version": "2.7.6"
  }
 },
 "nbformat": 4,
 "nbformat_minor": 0
}
