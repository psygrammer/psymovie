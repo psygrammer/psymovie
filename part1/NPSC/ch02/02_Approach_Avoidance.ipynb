{
 "cells": [
  {
   "cell_type": "markdown",
   "metadata": {},
   "source": [
    "# 02.Approach/Avoidance"
   ]
  },
  {
   "cell_type": "markdown",
   "metadata": {},
   "source": [
    "# Contents\n",
    "* 1 Basics of Approach/Avoidance—Behavior and Brain  \n",
    "    - 1.1 Positive and Negative Goals\n",
    "    - 1.2 Valuation versus Motivation \n",
    "    - 1.3 Goal Interactions, Gradients, and Goal Con ict \n",
    "    - 1.4 Hierarchical Control \n",
    "    - 1.5 From System Architecture to Neuroimaging \n",
    "* 2 State Neuroimaging of Approach, Avoidance, and Goal Conflict\n",
    "    - 2.1 State Neuroimaging of Approach/Reward\n",
    "    - 2.2 State Neuroimaging of Avoidance/Punishment \n",
    "    - 2.3 State Neuroimaging of Goal Conflict\n",
    "    - 2.4 “A Link between the Systems”—State Neuroimaging of the Insula\n",
    "* 3 Trait Neuroimaging of Approach, Avoidance, and Goal Conflict \n",
    "    - 3.1 Neuroimaging and Approach Traits\n",
    "    - 3.2 Neuroimaging and Avoidance and Goal Conflict Traits\n",
    "    - 3.3 Future Directions for Trait Research\n",
    "* 4 From Basics to States and Traits: Assessing Approach, Avoidance, and Goal Conflict"
   ]
  },
  {
   "cell_type": "markdown",
   "metadata": {},
   "source": [
    "# 1. Basics of Approach/Avoidance—Behavior and Brain\n",
    "* 1.1 Positive and Negative Goals\n",
    "* 1.2 Valuation versus Motivation\n",
    "* 1.3 Goal Interactions, Gradients, and Goal Con ict\n",
    "* 1.4 Hierarchical Control\n",
    "* 1.5 From System Architecture to Neuroimaging"
   ]
  },
  {
   "cell_type": "markdown",
   "metadata": {},
   "source": [
    "Approach and avoidance behaviors are fundamental to survival. \n",
    "* As such, they depend on phylogenetically old systems with many conserved features. \n",
    "    - For this reason, the basic human brain systems for approach and avoidance have much in common with those of other species. \n",
    "\n",
    "<font color=\"red\">Through study, we know more about the neurobiology of these systems and related traits than we do about most others, and this has translated into progress in human neuroimaging research</font>."
   ]
  },
  {
   "cell_type": "markdown",
   "metadata": {},
   "source": [
    "#### personality traits"
   ]
  },
  {
   "cell_type": "markdown",
   "metadata": {},
   "source": [
    "Importantly, we define personality traits in terms of longer-term stabilities in patterns of states.\n",
    "* That is, the level of a trait reflects the likelihood of being in a particular type of state, given a particular set of eliciting stimuli.\n",
    "    - The activation of approach and avoidance systems in any given situation requires careful long-term control of its precise intensity for any given input, and \n",
    "    - this long-term trait control of levels of activation is influenced by \n",
    "        - genes, \n",
    "        - developmental processes, and \n",
    "        - life events\n",
    "* These two systems and their associated traits can be seen \n",
    "    - as <font color=\"red\">providing a foundation for the more complex processes</font> \n",
    "        - from which mind and personality emerge."
   ]
  },
  {
   "cell_type": "markdown",
   "metadata": {},
   "source": [
    "#### neuroimaging"
   ]
  },
  {
   "cell_type": "markdown",
   "metadata": {},
   "source": [
    "* Both the specific states that result from the activation of approach and avoidance systems and the longer-term sensitivities that tune these activations to match current functional requirements <font color=\"red\">can be assessed indirectly through many techniques</font>, including \n",
    "    - self-report and \n",
    "    - behavioral data. \n",
    "* But <font color=\"red\">increasingly the more direct measurements of neuroimaging</font> are <font color=\"blue\">affording new insights</font>.\n",
    "* Detailed analysis of neuroimaging specific aspects of approach/avoidance systems is provided in chapters 3, 5 and 6 of the book.\n",
    "* <font color=\"red\">Here, we provide a more general overview</font> of the fundamental nature of approach and avoidance, \n",
    "    - the systems that control them, \n",
    "        - details of a third system that \n",
    "            - resolves conflicts between \n",
    "                - goals, and \n",
    "                - the range of resultant states and \n",
    "                - traits \n",
    "                    - that should be open to analysis by neuroimaging."
   ]
  },
  {
   "cell_type": "markdown",
   "metadata": {},
   "source": [
    "#### active avoidance VS passive avoidance"
   ]
  },
  {
   "cell_type": "markdown",
   "metadata": {},
   "source": [
    "* It is important to note that within this chapter, we will use the simple term “avoidance” to refer to \n",
    "    - <font color=\"red\">active avoidance</font> \n",
    "        - (often termed withdrawal) and \n",
    "* the terms \n",
    "    - “goal conflict processing” and \n",
    "    - “behavioral inhibition” to refer to \n",
    "        - <font color=\"red\">passive avoidance</font>. \n",
    "* This is an important functional distinction,\n",
    "    - as these two forms of avoidance \n",
    "        - are mediated by \n",
    "            - different, and\n",
    "            - partially opposing, systems of behavior regulation"
   ]
  },
  {
   "cell_type": "markdown",
   "metadata": {},
   "source": [
    "#### goal-directed behavior VS object-specific VS specific defensive"
   ]
  },
  {
   "cell_type": "markdown",
   "metadata": {},
   "source": [
    "It is important to distinguish more general, \n",
    "* positively motivated, <font color=\"red\">goal-directed, behavior</font> from \n",
    "* <font color=\"red\">object-specific consummatory behaviors</font> \n",
    "    - (e.g., eating, drinking, and mating). \n",
    "* <font color=\"red\">specific defensive behaviors</font>\n",
    "    - Likewise, direct or very close contacts with specific affectively negative objects require specific defensive behaviors \n",
    "        - (e.g., attacking an enemy or avoiding contact with fluids from an Ebola corpse). "
   ]
  },
  {
   "cell_type": "markdown",
   "metadata": {},
   "source": [
    "## 1.1 Positive and Negative Goals"
   ]
  },
  {
   "cell_type": "markdown",
   "metadata": {},
   "source": [
    "<img src=\"figures/cap2.1.png\" width=600 />"
   ]
  },
  {
   "cell_type": "markdown",
   "metadata": {},
   "source": [
    "## 1.2 Valuation versus Motivation"
   ]
  },
  {
   "cell_type": "code",
   "execution_count": null,
   "metadata": {
    "collapsed": true
   },
   "outputs": [],
   "source": [
    "\n",
    "<img src=\"figures/cap2.2.png\" width=600 />\n",
    "<img src=\"figures/cap2.3.png\" width=600 />\n",
    "<img src=\"figures/cap2.4.png\" width=600 />\n",
    "<img src=\"figures/cap2.5.png\" width=600 />\n",
    "<img src=\"figures/cap2.6.png\" width=600 />\n",
    "<img src=\"figures/cap2.7.png\" width=600 />\n",
    "<img src=\"figures/cap2.8.png\" width=600 />"
   ]
  },
  {
   "cell_type": "markdown",
   "metadata": {},
   "source": [
    "## 1.3 Goal Interactions, Gradients, and Goal Con ict"
   ]
  },
  {
   "cell_type": "markdown",
   "metadata": {},
   "source": [
    "## 1.4 Hierarchical Control"
   ]
  },
  {
   "cell_type": "markdown",
   "metadata": {},
   "source": [
    "## 1.5 From System Architecture to Neuroimaging"
   ]
  },
  {
   "cell_type": "markdown",
   "metadata": {},
   "source": [
    "# 2. State Neuroimaging of Approach, Avoidance, and Goal Conflict\n",
    "* 2.1 State Neuroimaging of Approach/Reward\n",
    "* 2.2 State Neuroimaging of Avoidance/Punishment\n",
    "* 2.3 State Neuroimaging of Goal Conflict\n",
    "* 2.4 \"A Link between the Systems\"—State Neuroimaging of the Insula"
   ]
  },
  {
   "cell_type": "markdown",
   "metadata": {},
   "source": [
    "## 2.1 State Neuroimaging of Approach/Reward"
   ]
  },
  {
   "cell_type": "markdown",
   "metadata": {},
   "source": [
    "## 2.2 State Neuroimaging of Avoidance/Punishment"
   ]
  },
  {
   "cell_type": "markdown",
   "metadata": {},
   "source": [
    "## 2.3 State Neuroimaging of Goal Conflict"
   ]
  },
  {
   "cell_type": "markdown",
   "metadata": {},
   "source": [
    "## 2.4 \"A Link between the Systems\"—State Neuroimaging of the Insula"
   ]
  },
  {
   "cell_type": "markdown",
   "metadata": {},
   "source": [
    "# 3 Trait Neuroimaging of Approach, Avoidance, and Goal Conflict\n",
    "* 3.1 Neuroimaging and Approach Traits\n",
    "* 3.2 Neuroimaging and Avoidance and Goal Conflict Traits\n",
    "* 3.3 Future Directions for Trait Research"
   ]
  },
  {
   "cell_type": "markdown",
   "metadata": {},
   "source": [
    "## 3.1 Neuroimaging and Approach Traits"
   ]
  },
  {
   "cell_type": "markdown",
   "metadata": {},
   "source": [
    "## 3.2 Neuroimaging and Avoidance and Goal Conflict Traits"
   ]
  },
  {
   "cell_type": "markdown",
   "metadata": {},
   "source": [
    "## 3.3 Future Directions for Trait Research"
   ]
  },
  {
   "cell_type": "markdown",
   "metadata": {},
   "source": [
    "# 4. From Basics to States and Traits: Assessing Approach, Avoidance, and Goal Conflict"
   ]
  },
  {
   "cell_type": "code",
   "execution_count": null,
   "metadata": {
    "collapsed": true
   },
   "outputs": [],
   "source": []
  }
 ],
 "metadata": {
  "kernelspec": {
   "display_name": "Python 2",
   "language": "python",
   "name": "python2"
  },
  "language_info": {
   "codemirror_mode": {
    "name": "ipython",
    "version": 2
   },
   "file_extension": ".py",
   "mimetype": "text/x-python",
   "name": "python",
   "nbconvert_exporter": "python",
   "pygments_lexer": "ipython2",
   "version": "2.7.6"
  }
 },
 "nbformat": 4,
 "nbformat_minor": 0
}
